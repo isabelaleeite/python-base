{
 "cells": [
  {
   "cell_type": "markdown",
   "id": "44a61744",
   "metadata": {},
   "source": [
    "# Exercícios #1 -  Estruturas de dados\n"
   ]
  },
  {
   "cell_type": "markdown",
   "id": "e79d2e26",
   "metadata": {},
   "source": [
    "## Exercício 1"
   ]
  },
  {
   "cell_type": "markdown",
   "id": "4489965b",
   "metadata": {},
   "source": [
    "Utilizando o built-in method input(), crie um programa que receba a altura e o peso de uma pessoa e imprima na tela o IMC da mesma."
   ]
  },
  {
   "cell_type": "code",
   "execution_count": 12,
   "id": "99225405",
   "metadata": {},
   "outputs": [
    {
     "name": "stdout",
     "output_type": "stream",
     "text": [
      "Digite seu peso\n",
      "53\n",
      "Digite sua altura\n",
      "1.73\n",
      "Seu IMC é de: 17.71\n"
     ]
    }
   ],
   "source": [
    "# Fórmula IMC peso/(altura x altura)\n",
    "\n",
    "print('Digite seu peso')\n",
    "peso = float(input())\n",
    "print('Digite sua altura')\n",
    "altura = float(input())\n",
    "\n",
    "IMC = (peso/(altura * altura))\n",
    "#IMC_Arredondado = round(IMC,2)\n",
    "print(\"Seu IMC é de: {:.2f}\".format(IMC))"
   ]
  },
  {
   "cell_type": "markdown",
   "id": "c0b89517",
   "metadata": {},
   "source": [
    "## Exercício 2\n"
   ]
  },
  {
   "cell_type": "markdown",
   "id": "251d6914",
   "metadata": {},
   "source": [
    "Escreva um programa que pergunte o nome completo do usuário e cumprimente o mesmo pelo primeiro nome."
   ]
  },
  {
   "cell_type": "code",
   "execution_count": 16,
   "id": "700ef70b",
   "metadata": {},
   "outputs": [
    {
     "name": "stdout",
     "output_type": "stream",
     "text": [
      "Olá! Qual o seu nome?\n",
      "Isabela Leite\n",
      "Seja bem vindo Isabela\n"
     ]
    }
   ],
   "source": [
    "print(\"Olá! Qual o seu nome?\")\n",
    "nome = input()\n",
    "print(\"Seja bem vindo\", nome.split()[0])"
   ]
  },
  {
   "cell_type": "markdown",
   "id": "1f0efd97",
   "metadata": {},
   "source": [
    "## Exercício 3"
   ]
  },
  {
   "cell_type": "markdown",
   "id": "133afb67",
   "metadata": {},
   "source": [
    "Desenhe um código que extraia o domínio de um e-mail informado."
   ]
  },
  {
   "cell_type": "code",
   "execution_count": 19,
   "id": "ecc680d1",
   "metadata": {},
   "outputs": [
    {
     "name": "stdout",
     "output_type": "stream",
     "text": [
      "Olá! Qual o seu e-mail?\n",
      "isabela@vfx.inf.br\n",
      "Seu domínio é:  vfx.inf.br\n"
     ]
    }
   ],
   "source": [
    "print(\"Olá! Qual o seu e-mail?\")\n",
    "email = input()\n",
    "print(\"Seu domínio é: \", email.split(\"@\")[-1])"
   ]
  },
  {
   "cell_type": "markdown",
   "id": "88883c7d",
   "metadata": {},
   "source": [
    "## Exercício 4"
   ]
  },
  {
   "cell_type": "markdown",
   "id": "0727debc",
   "metadata": {},
   "source": [
    "Faça um programa para uma loja e tintas. A pessoa informa a área em m2 que deseja pintar, e o script calculará a quantidade de latas de tinta que a pessoa deve comprar e o valor. Considere que cada litro de tinta pinta 3m2, que cada lata contém 18l e que custa R$ 80."
   ]
  },
  {
   "cell_type": "code",
   "execution_count": 28,
   "id": "68fef44f",
   "metadata": {},
   "outputs": [
    {
     "name": "stdout",
     "output_type": "stream",
     "text": [
      "Olá! Por favor informe a área que deseja pintar! \n",
      "15\n",
      "Você precisará de 1 latas e elas custarão 80 reais.\n"
     ]
    }
   ],
   "source": [
    "print(\"Olá! Por favor informe a área que deseja pintar! \")\n",
    "area = float(input())\n",
    "\n",
    "volume_necessario =  area / 3\n",
    "latas = int(volume_necessario / 18)\n",
    "custo = latas * 80\n",
    "\n",
    "print(\"Você precisará de {} latas e elas custarão {} reais.\".format(latas, custo))\n",
    "\n"
   ]
  },
  {
   "cell_type": "markdown",
   "id": "c92c38db",
   "metadata": {},
   "source": [
    "## Exercício 5"
   ]
  },
  {
   "cell_type": "markdown",
   "id": "fe6397bd",
   "metadata": {},
   "source": [
    "Faça um programa que pergunte quanto você ganha por hora e o número de horas trabalhadas no mês. Calcule e mostre o total do seu salário no referido mês, sabendo-se que são descontados 11% para o Imposto de Renda, 8% para o INSS e 5% para o sindicato, faça um programa que nos dê:\n",
    "\n",
    "1. Salário Bruto.\n",
    "2. Quanto pagou ao INSS\n",
    "3. Quanto pagou ao sindicato.\n",
    "4. O salário líquido."
   ]
  },
  {
   "cell_type": "code",
   "execution_count": 9,
   "id": "6549467b",
   "metadata": {},
   "outputs": [
    {
     "name": "stdout",
     "output_type": "stream",
     "text": [
      "Insira o seu salário: \n",
      "3200\n",
      "Insira a quantidade de horas que você trabalha por dia: \n",
      "40\n",
      "O valor da sua hora trabalhada é: 2.67\n",
      "O seu salário bruto é: 3200.00\n",
      "Você paga ao INSS: 227.84\n",
      "Você paga ao sindicato: 131.01\n",
      "E o seu salário líquido é: 2489.15\n"
     ]
    }
   ],
   "source": [
    "print(\"Insira o seu salário: \")\n",
    "salario = float(input())\n",
    "print(\"Insira a quantidade de horas que você trabalha por dia: \")\n",
    "horas_trabalhadas = float(input())\n",
    "salario_hora = salario / (horas_trabalhadas * 30)\n",
    "print(\"O valor da sua hora trabalhada é: {:.2f}\".format(salario_hora))\n",
    "\n",
    "ir = salario * 0.11\n",
    "inss = (salario - ir) *0.08\n",
    "sindicato = (salario - ir - inss) * 0.05\n",
    "salario_liquido = (salario - ir - inss - sindicato)\n",
    "\n",
    "\n",
    "print(\"O seu salário bruto é: {:.2f}\".format(salario))\n",
    "print(\"Você paga ao INSS: {:.2f}\".format(inss))\n",
    "print(\"Você paga ao sindicato: {:.2f}\".format(sindicato))\n",
    "print(\"E o seu salário líquido é: {:.2f}\".format(salario_liquido))\n"
   ]
  },
  {
   "cell_type": "code",
   "execution_count": null,
   "id": "e2767a58",
   "metadata": {},
   "outputs": [],
   "source": []
  }
 ],
 "metadata": {
  "kernelspec": {
   "display_name": "Python 3 (ipykernel)",
   "language": "python",
   "name": "python3"
  },
  "language_info": {
   "codemirror_mode": {
    "name": "ipython",
    "version": 3
   },
   "file_extension": ".py",
   "mimetype": "text/x-python",
   "name": "python",
   "nbconvert_exporter": "python",
   "pygments_lexer": "ipython3",
   "version": "3.11.4"
  }
 },
 "nbformat": 4,
 "nbformat_minor": 5
}
