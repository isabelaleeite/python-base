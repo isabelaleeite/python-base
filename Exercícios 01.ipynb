{
 "cells": [
  {
   "cell_type": "markdown",
   "id": "44a61744",
   "metadata": {},
   "source": [
    "# Exercícios #1 -  Estruturas de dados\n"
   ]
  },
  {
   "cell_type": "markdown",
   "id": "e79d2e26",
   "metadata": {},
   "source": [
    "## Exercício 1"
   ]
  },
  {
   "cell_type": "markdown",
   "id": "4489965b",
   "metadata": {},
   "source": [
    "Utilizando o built-in method input(), crie um programa que receba a altura e o peso de uma pessoa e imprima na tela o IMC da mesma."
   ]
  },
  {
   "cell_type": "code",
   "execution_count": 12,
   "id": "99225405",
   "metadata": {},
   "outputs": [
    {
     "name": "stdout",
     "output_type": "stream",
     "text": [
      "Digite seu peso\n",
      "53\n",
      "Digite sua altura\n",
      "1.73\n",
      "Seu IMC é de: 17.71\n"
     ]
    }
   ],
   "source": [
    "# Fórmula IMC peso/(altura x altura)\n",
    "\n",
    "print('Digite seu peso')\n",
    "peso = float(input())\n",
    "print('Digite sua altura')\n",
    "altura = float(input())\n",
    "\n",
    "IMC = (peso/(altura * altura))\n",
    "#IMC_Arredondado = round(IMC,2)\n",
    "print(\"Seu IMC é de: {:.2f}\".format(IMC))"
   ]
  },
  {
   "cell_type": "markdown",
   "id": "c0b89517",
   "metadata": {},
   "source": [
    "## Exercício 2\n"
   ]
  },
  {
   "cell_type": "markdown",
   "id": "251d6914",
   "metadata": {},
   "source": [
    "Escreva um programa que pergunte o nome completo do usuário e cumprimente o mesmo pelo primeiro nome."
   ]
  },
  {
   "cell_type": "code",
   "execution_count": 16,
   "id": "700ef70b",
   "metadata": {},
   "outputs": [
    {
     "name": "stdout",
     "output_type": "stream",
     "text": [
      "Olá! Qual o seu nome?\n",
      "Isabela Leite\n",
      "Seja bem vindo Isabela\n"
     ]
    }
   ],
   "source": [
    "print(\"Olá! Qual o seu nome?\")\n",
    "nome = input()\n",
    "print(\"Seja bem vindo\", nome.split()[0])"
   ]
  },
  {
   "cell_type": "markdown",
   "id": "1f0efd97",
   "metadata": {},
   "source": [
    "## Exercício 3"
   ]
  },
  {
   "cell_type": "markdown",
   "id": "133afb67",
   "metadata": {},
   "source": [
    "Desenhe um código que extraia o domínio de um e-mail informado."
   ]
  },
  {
   "cell_type": "code",
   "execution_count": 19,
   "id": "ecc680d1",
   "metadata": {},
   "outputs": [
    {
     "name": "stdout",
     "output_type": "stream",
     "text": [
      "Olá! Qual o seu e-mail?\n",
      "isabela@vfx.inf.br\n",
      "Seu domínio é:  vfx.inf.br\n"
     ]
    }
   ],
   "source": [
    "print(\"Olá! Qual o seu e-mail?\")\n",
    "email = input()\n",
    "print(\"Seu domínio é: \", email.split(\"@\")[-1])"
   ]
  },
  {
   "cell_type": "markdown",
   "id": "88883c7d",
   "metadata": {},
   "source": [
    "## Exercício 4"
   ]
  },
  {
   "cell_type": "markdown",
   "id": "0727debc",
   "metadata": {},
   "source": [
    "Faça um programa para uma loja e tintas. A pessoa informa a área em m2 que deseja pintar, e o script calculará a quantidade de latas de tinta que a pessoa deve comprar e o valor. Considere que cada litro de tinta pinta 3m2, que cada lata contém 18l e que custa R$ 80."
   ]
  },
  {
   "cell_type": "code",
   "execution_count": 28,
   "id": "68fef44f",
   "metadata": {},
   "outputs": [
    {
     "name": "stdout",
     "output_type": "stream",
     "text": [
      "Olá! Por favor informe a área que deseja pintar! \n",
      "15\n",
      "Você precisará de 1 latas e elas custarão 80 reais.\n"
     ]
    }
   ],
   "source": [
    "print(\"Olá! Por favor informe a área que deseja pintar! \")\n",
    "area = float(input())\n",
    "\n",
    "volume_necessario =  area / 3\n",
    "latas = int(volume_necessario / 18)\n",
    "custo = latas * 80\n",
    "\n",
    "print(\"Você precisará de {} latas e elas custarão {} reais.\".format(latas, custo))\n",
    "\n"
   ]
  },
  {
   "cell_type": "code",
   "execution_count": null,
   "id": "e198792f",
   "metadata": {},
   "outputs": [],
   "source": []
  },
  {
   "cell_type": "code",
   "execution_count": null,
   "id": "f0c13ade",
   "metadata": {},
   "outputs": [],
   "source": []
  }
 ],
 "metadata": {
  "kernelspec": {
   "display_name": "Python 3 (ipykernel)",
   "language": "python",
   "name": "python3"
  },
  "language_info": {
   "codemirror_mode": {
    "name": "ipython",
    "version": 3
   },
   "file_extension": ".py",
   "mimetype": "text/x-python",
   "name": "python",
   "nbconvert_exporter": "python",
   "pygments_lexer": "ipython3",
   "version": "3.11.4"
  }
 },
 "nbformat": 4,
 "nbformat_minor": 5
}
